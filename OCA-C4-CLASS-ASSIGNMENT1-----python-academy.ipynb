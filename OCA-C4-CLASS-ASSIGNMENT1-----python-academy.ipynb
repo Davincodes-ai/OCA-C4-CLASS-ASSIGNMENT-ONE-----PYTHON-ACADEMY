{
 "cells": [
  {
   "cell_type": "markdown",
   "id": "50ed084d",
   "metadata": {},
   "source": [
    "# CLASS ASSIGNMENT:\n",
    "\n",
    "**Patricia** operates a grocery store selling several product categories as shown below.\n",
    "1. Foods\n",
    "2. Beverages\n",
    "3. Toiletries\n",
    "\n",
    "**She** estimates that the total sales each week for Foods is 3210 Dollars. \n",
    "\n",
    "The daily workday sales of beverages are 520 Dollars. On weekends (Saturdays and Sundays) \n",
    "the daily sales are double the weekday sale for this category.\n",
    "The daily sales for toiletries are about 83% of the beverages and shows the same pattern for weekdays and weekends.\n",
    "Patricia employe 5 persons as accounting and sales staff with a 1,500 monthly salary per staff. She is also considering paying herself a monthly salary of 2750 Dollars.\n",
    "\n",
    "**Patricia**'s profit margin on Foods is 25.30%, on Beverages its 15.76% and on Toiletries its 35% lower than that of Beverages.\n",
    "Costs associated with her Grocery store are monthly rent of 2100, monthly cost of logistics for purchase and restocking inventory is 5% of total monthly revenue from the store.\n",
    "Tax is charged at 25.3% of profit. There is also a 5% VAT on Toiletries and Beverages that is already included in the selling price of products in these categories.\n",
    "Patricia would like to disburse her profit after tax and all deductions into the following three account bucket such that investment in inventory gets a minimum of $ 20,000 per month;\n",
    "\n",
    "1. 40 percent remitted to her investment account which yields 15 percent interest per annum\n",
    "2. 30 percent held in a current account for domestic expenses\n",
    "3. 30 percent invested back into inventory in the Grocery store\n",
    "\n",
    "## TASK\n",
    "1. compute the total revenue and profits per category\n",
    "2. compute the total tax and vat payable on each category\n",
    "3. compute total store expenses on a monthly and annual basis\n",
    "4. what percentage of profits is employee salary\n",
    "5. If Patricia pays herself the proposed salary, by what percentage does profitability drop monthly\n",
    "6. Compute the amount of money remitted into the three account buckets every month\n"
   ]
  },
  {
   "cell_type": "markdown",
   "id": "cc942534",
   "metadata": {},
   "source": [
    "## Now lets start coding!"
   ]
  },
  {
   "cell_type": "markdown",
   "id": "3a49478a",
   "metadata": {},
   "source": [
    "***Define the sales data***"
   ]
  },
  {
   "cell_type": "code",
   "execution_count": 1,
   "id": "1eba58db",
   "metadata": {},
   "outputs": [],
   "source": [
    "weekly_foods_sales = 3210"
   ]
  },
  {
   "cell_type": "code",
   "execution_count": 2,
   "id": "32e99a61",
   "metadata": {},
   "outputs": [],
   "source": [
    "weekday_beverages_sales = 520"
   ]
  },
  {
   "cell_type": "code",
   "execution_count": 3,
   "id": "3a1e784f",
   "metadata": {},
   "outputs": [],
   "source": [
    "weekend_beverages_sales = 2 * weekday_beverages_sales"
   ]
  },
  {
   "cell_type": "code",
   "execution_count": 4,
   "id": "e363b017",
   "metadata": {},
   "outputs": [],
   "source": [
    "toiletries_sales_percentage = 0.83"
   ]
  },
  {
   "cell_type": "code",
   "execution_count": 5,
   "id": "15f09f2b",
   "metadata": {},
   "outputs": [],
   "source": [
    "monthly_rent = 2100"
   ]
  },
  {
   "cell_type": "markdown",
   "id": "02cbede9",
   "metadata": {},
   "source": [
    "## ***Calculate monthly sales for each category***"
   ]
  },
  {
   "cell_type": "code",
   "execution_count": 6,
   "id": "21f7d583",
   "metadata": {},
   "outputs": [],
   "source": [
    "monthly_foods_sales = weekly_foods_sales * 4"
   ]
  },
  {
   "cell_type": "code",
   "execution_count": 7,
   "id": "624b771e",
   "metadata": {},
   "outputs": [],
   "source": [
    "monthly_beverages_sales = (weekday_beverages_sales * 20) + (weekend_beverages_sales * 8)"
   ]
  },
  {
   "cell_type": "code",
   "execution_count": 8,
   "id": "fde5875c",
   "metadata": {},
   "outputs": [],
   "source": [
    "monthly_toiletries_sales = (\n",
    "    (weekday_beverages_sales * 20) + (weekend_beverages_sales * 8)\n",
    ") * toiletries_sales_percentage\n"
   ]
  },
  {
   "cell_type": "markdown",
   "id": "1d0a3d31",
   "metadata": {},
   "source": [
    "## ***Define profit margins***"
   ]
  },
  {
   "cell_type": "code",
   "execution_count": 9,
   "id": "e711220c",
   "metadata": {},
   "outputs": [],
   "source": [
    "food_profit_margin = 0.2530"
   ]
  },
  {
   "cell_type": "code",
   "execution_count": 10,
   "id": "8bf2618e",
   "metadata": {},
   "outputs": [],
   "source": [
    "beverages_profit_margin = 0.1576"
   ]
  },
  {
   "cell_type": "code",
   "execution_count": 11,
   "id": "e1d5a4cf",
   "metadata": {},
   "outputs": [],
   "source": [
    "toiletries_profit_margin = 0.65 * beverages_profit_margin"
   ]
  },
  {
   "cell_type": "markdown",
   "id": "55de0fc8",
   "metadata": {},
   "source": [
    "## ***Calculate profits for each category***"
   ]
  },
  {
   "cell_type": "code",
   "execution_count": 12,
   "id": "dc462faa",
   "metadata": {},
   "outputs": [],
   "source": [
    "profit_foods = monthly_foods_sales * food_profit_margin"
   ]
  },
  {
   "cell_type": "code",
   "execution_count": 13,
   "id": "6363e20a",
   "metadata": {},
   "outputs": [],
   "source": [
    "profit_beverages = monthly_beverages_sales * beverages_profit_margin"
   ]
  },
  {
   "cell_type": "code",
   "execution_count": 14,
   "id": "a1329061",
   "metadata": {},
   "outputs": [],
   "source": [
    "profit_toiletries = monthly_toiletries_sales * toiletries_profit_margin"
   ]
  },
  {
   "cell_type": "markdown",
   "id": "7829ae95",
   "metadata": {},
   "source": [
    "## ***Calculate taxes***"
   ]
  },
  {
   "cell_type": "code",
   "execution_count": 15,
   "id": "a8276f1b",
   "metadata": {},
   "outputs": [],
   "source": [
    "tax_rate = 0.253"
   ]
  },
  {
   "cell_type": "code",
   "execution_count": 16,
   "id": "49d899c5",
   "metadata": {},
   "outputs": [],
   "source": [
    "tax_foods = profit_foods * tax_rate"
   ]
  },
  {
   "cell_type": "code",
   "execution_count": 17,
   "id": "ce7d6edf",
   "metadata": {},
   "outputs": [],
   "source": [
    "tax_beverages = profit_beverages * tax_rate"
   ]
  },
  {
   "cell_type": "code",
   "execution_count": 18,
   "id": "1ee4ad2f",
   "metadata": {},
   "outputs": [],
   "source": [
    "tax_toiletries = profit_toiletries * tax_rate"
   ]
  },
  {
   "cell_type": "markdown",
   "id": "feb89194",
   "metadata": {},
   "source": [
    "## ***Calculate VAT for Beverages and Toiletries***"
   ]
  },
  {
   "cell_type": "code",
   "execution_count": 19,
   "id": "defe6bf3",
   "metadata": {},
   "outputs": [],
   "source": [
    "vat_rate = 0.05"
   ]
  },
  {
   "cell_type": "code",
   "execution_count": 20,
   "id": "090ca8bc",
   "metadata": {},
   "outputs": [],
   "source": [
    "vat_beverages = monthly_beverages_sales * vat_rate"
   ]
  },
  {
   "cell_type": "code",
   "execution_count": 21,
   "id": "615bf037",
   "metadata": {},
   "outputs": [],
   "source": [
    "vat_toiletries = monthly_toiletries_sales * vat_rate"
   ]
  },
  {
   "cell_type": "markdown",
   "id": "27d9612a",
   "metadata": {},
   "source": [
    "## ***Calculate total expenses***"
   ]
  },
  {
   "cell_type": "code",
   "execution_count": 22,
   "id": "ce761a7f",
   "metadata": {},
   "outputs": [],
   "source": [
    "logistics_cost_percentage = 0.05"
   ]
  },
  {
   "cell_type": "code",
   "execution_count": 23,
   "id": "7a7548ec",
   "metadata": {},
   "outputs": [],
   "source": [
    "total_revenue = monthly_foods_sales + monthly_beverages_sales + monthly_toiletries_sales"
   ]
  },
  {
   "cell_type": "code",
   "execution_count": 24,
   "id": "b3944caa",
   "metadata": {},
   "outputs": [],
   "source": [
    "logistics_cost = total_revenue * logistics_cost_percentage\n"
   ]
  },
  {
   "cell_type": "markdown",
   "id": "4496b3b8",
   "metadata": {},
   "source": [
    "## **Calculate the percentage of profits used for employee salary**"
   ]
  },
  {
   "cell_type": "code",
   "execution_count": 25,
   "id": "eacf11c3",
   "metadata": {},
   "outputs": [],
   "source": [
    "monthly_employee_salary = 5 * 1500"
   ]
  },
  {
   "cell_type": "code",
   "execution_count": 26,
   "id": "3867e69b",
   "metadata": {},
   "outputs": [],
   "source": [
    "percentage_employee_salary = (monthly_employee_salary / (profit_foods + profit_beverages + profit_toiletries)) * 100"
   ]
  },
  {
   "cell_type": "markdown",
   "id": "1ffde358",
   "metadata": {},
   "source": [
    "## ***Calculate the percentage drop in profitability if Patricia pays herself the proposed salary***"
   ]
  },
  {
   "cell_type": "code",
   "execution_count": 27,
   "id": "930bd43e",
   "metadata": {},
   "outputs": [],
   "source": [
    "patricia_proposed_salary = 2750"
   ]
  },
  {
   "cell_type": "code",
   "execution_count": 28,
   "id": "6279236b",
   "metadata": {},
   "outputs": [],
   "source": [
    "new_profit_after_salary = (profit_foods + profit_beverages + profit_toiletries) - patricia_proposed_salary"
   ]
  },
  {
   "cell_type": "code",
   "execution_count": 29,
   "id": "89de8a60",
   "metadata": {},
   "outputs": [],
   "source": [
    "percentage_profit_drop = ((profit_foods + profit_beverages + profit_toiletries) - new_profit_after_salary) / (profit_foods + profit_beverages + profit_toiletries) * 100\n"
   ]
  },
  {
   "cell_type": "markdown",
   "id": "1f6bb023",
   "metadata": {},
   "source": [
    "## ***Calculate the amount remitted to the three account buckets***"
   ]
  },
  {
   "cell_type": "code",
   "execution_count": 30,
   "id": "f2657fb5",
   "metadata": {},
   "outputs": [],
   "source": [
    "investment_percentage = 0.4"
   ]
  },
  {
   "cell_type": "code",
   "execution_count": 31,
   "id": "0f2d8be9",
   "metadata": {},
   "outputs": [],
   "source": [
    "current_account_percentage = 0.3"
   ]
  },
  {
   "cell_type": "code",
   "execution_count": 32,
   "id": "c32bbb42",
   "metadata": {},
   "outputs": [],
   "source": [
    "inventory_percentage = 0.3"
   ]
  },
  {
   "cell_type": "code",
   "execution_count": 33,
   "id": "5cdce510",
   "metadata": {},
   "outputs": [],
   "source": [
    "investment_amount = (profit_foods + profit_beverages + profit_toiletries) * investment_percentage"
   ]
  },
  {
   "cell_type": "code",
   "execution_count": 34,
   "id": "38919036",
   "metadata": {},
   "outputs": [],
   "source": [
    "current_account_amount = (profit_foods + profit_beverages + profit_toiletries) * current_account_percentage"
   ]
  },
  {
   "cell_type": "code",
   "execution_count": 35,
   "id": "d749c253",
   "metadata": {},
   "outputs": [],
   "source": [
    "inventory_amount = (profit_foods + profit_beverages + profit_toiletries) * inventory_percentage"
   ]
  },
  {
   "cell_type": "markdown",
   "id": "412eed46",
   "metadata": {},
   "source": [
    "## ***Let us print the results***\n"
   ]
  },
  {
   "cell_type": "code",
   "execution_count": 36,
   "id": "fb679a08",
   "metadata": {},
   "outputs": [
    {
     "name": "stdout",
     "output_type": "stream",
     "text": [
      "1. Total Revenue and Profits per Category:\n",
      "   - Foods: Total Revenue: $12840, Profit: $3248.52\n",
      "   - Beverages: Total Revenue: $18720, Profit: $2950.27\n",
      "   - Toiletries: Total Revenue: $15537.599999999999, Profit: $1591.67\n",
      "\n",
      "2. Total Tax and VAT Payable on Each Category:\n",
      "   - Foods: Tax Payable: $821.88, VAT: $0.00\n",
      "   - Beverages: Tax Payable: $746.42, VAT: $936.00\n",
      "   - Toiletries: Tax Payable: $402.69, VAT: $776.88\n",
      "\n",
      "3. Total Store Expenses:\n",
      "   - Monthly Expenses: $4454.88\n",
      "   - Annual Expenses: $53458.56\n",
      "\n",
      "4. Percentage of Profits Used for Employee Salary:\n",
      "   - 96.27%\n",
      "\n",
      "5. Percentage Drop in Profitability if Patricia Pays Herself Proposed Salary:\n",
      "   - 35.30%\n",
      "\n",
      "6. Amount Remitted to the Three Account Buckets Every Month:\n",
      "   - Investment Account: $3116.19\n",
      "   - Current Account for Domestic Expenses: $2337.14\n",
      "   - Inventory in the Grocery Store: $2337.14\n"
     ]
    }
   ],
   "source": [
    "print(\"1. Total Revenue and Profits per Category:\")\n",
    "print(f\"   - Foods: Total Revenue: ${monthly_foods_sales}, Profit: ${profit_foods:.2f}\")\n",
    "print(f\"   - Beverages: Total Revenue: ${monthly_beverages_sales}, Profit: ${profit_beverages:.2f}\")\n",
    "print(f\"   - Toiletries: Total Revenue: ${monthly_toiletries_sales}, Profit: ${profit_toiletries:.2f}\")\n",
    "\n",
    "print(\"\\n2. Total Tax and VAT Payable on Each Category:\")\n",
    "print(f\"   - Foods: Tax Payable: ${tax_foods:.2f}, VAT: $0.00\")\n",
    "print(f\"   - Beverages: Tax Payable: ${tax_beverages:.2f}, VAT: ${vat_beverages:.2f}\")\n",
    "print(f\"   - Toiletries: Tax Payable: ${tax_toiletries:.2f}, VAT: ${vat_toiletries:.2f}\")\n",
    "\n",
    "print(\"\\n3. Total Store Expenses:\")\n",
    "print(f\"   - Monthly Expenses: ${monthly_rent + logistics_cost:.2f}\")\n",
    "print(f\"   - Annual Expenses: ${12 * (monthly_rent + logistics_cost):.2f}\")\n",
    "\n",
    "print(\"\\n4. Percentage of Profits Used for Employee Salary:\")\n",
    "print(f\"   - {percentage_employee_salary:.2f}%\")\n",
    "\n",
    "print(\"\\n5. Percentage Drop in Profitability if Patricia Pays Herself Proposed Salary:\")\n",
    "print(f\"   - {percentage_profit_drop:.2f}%\")\n",
    "\n",
    "print(\"\\n6. Amount Remitted to the Three Account Buckets Every Month:\")\n",
    "print(f\"   - Investment Account: ${investment_amount:.2f}\")\n",
    "print(f\"   - Current Account for Domestic Expenses: ${current_account_amount:.2f}\")\n",
    "print(f\"   - Inventory in the Grocery Store: ${inventory_amount:.2f}\")\n"
   ]
  }
 ],
 "metadata": {
  "kernelspec": {
   "display_name": "Python 3 (ipykernel)",
   "language": "python",
   "name": "python3"
  },
  "language_info": {
   "codemirror_mode": {
    "name": "ipython",
    "version": 3
   },
   "file_extension": ".py",
   "mimetype": "text/x-python",
   "name": "python",
   "nbconvert_exporter": "python",
   "pygments_lexer": "ipython3",
   "version": "3.11.4"
  }
 },
 "nbformat": 4,
 "nbformat_minor": 5
}
